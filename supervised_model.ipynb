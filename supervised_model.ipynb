{
 "cells": [
  {
   "cell_type": "markdown",
   "metadata": {},
   "source": [
    "## Modélisation supervisée ##"
   ]
  },
  {
   "cell_type": "markdown",
   "metadata": {},
   "source": [
    "Je passe maintenant à une approche supervisée, qui utilise directement les tags du dataset pour entraîner un modèle prédictif.  \n",
    "Je choisis d'utiliser un simple réseau de neurones à une couche cachée."
   ]
  },
  {
   "cell_type": "markdown",
   "metadata": {},
   "source": [
    "### Importation et fonctions ###"
   ]
  },
  {
   "cell_type": "markdown",
   "metadata": {},
   "source": [
    "\n",
    "#### Environnement de travail ####"
   ]
  },
  {
   "cell_type": "code",
   "execution_count": null,
   "metadata": {},
   "outputs": [],
   "source": [
    "# Générique\n",
    "import random\n",
    "\n",
    "# Manipulation de données\n",
    "from collections import Counter\n",
    "import pandas as pd\n",
    "import numpy as np\n",
    "\n",
    "# NLP\n",
    "import re\n",
    "from sklearn.feature_extraction.text import CountVectorizer, TfidfVectorizer\n",
    "from sklearn.preprocessing import MultiLabelBinarizer\n",
    "from gensim.models import Word2Vec, LdaModel, CoherenceModel\n",
    "from gensim import corpora\n",
    "from gensim.utils import simple_preprocess\n",
    "from transformers import BertTokenizer, BertModel\n",
    "from transformers import DistilBertTokenizer, DistilBertModel\n",
    "import torch\n",
    "\n",
    "# MLOps\n",
    "import mlflow\n",
    "\n",
    "# Modèle\n",
    "import tensorflow_hub as hub\n",
    "import tensorflow as tf\n",
    "from sklearn.model_selection import train_test_split\n",
    "from tensorflow.keras.models import Sequential\n",
    "from tensorflow.keras.layers import Dense, Dropout\n",
    "\n",
    "\n",
    "# DataViz\n",
    "import plotly.express as px\n",
    "from plotly.subplots import make_subplots\n",
    "import plotly.graph_objects as go\n",
    "from wordcloud import WordCloud\n",
    "import matplotlib.pyplot as plt"
   ]
  },
  {
   "cell_type": "code",
   "execution_count": null,
   "metadata": {},
   "outputs": [],
   "source": [
    "# Chargement des dictionnaires NLP de NLTK"
   ]
  },
  {
   "cell_type": "code",
   "execution_count": null,
   "metadata": {},
   "outputs": [
    {
     "data": {
      "text/plain": [
       "<Experiment: artifact_location='mlflow-artifacts:/635357062346878224', creation_time=1726234904716, experiment_id='635357062346878224', last_update_time=1726234904716, lifecycle_stage='active', name='NLP StackOverflow Tagging', tags={}>"
      ]
     },
     "metadata": {},
     "output_type": "display_data"
    }
   ],
   "source": [
    "# Initialisation de MLFlow\n",
    "\n",
    "mlflow.set_tracking_uri(\"http://localhost:5000\")\n",
    "mlflow.set_experiment(\"NLP StackOverflow Tagging\")"
   ]
  },
  {
   "cell_type": "markdown",
   "metadata": {},
   "source": [
    "#### Importation des données ###"
   ]
  },
  {
   "cell_type": "code",
   "execution_count": null,
   "metadata": {},
   "outputs": [],
   "source": [
    "data = pd.read_json('data/feature_matrix.json')\n",
    "raw_data = data"
   ]
  },
  {
   "cell_type": "code",
   "execution_count": null,
   "metadata": {},
   "outputs": [
    {
     "data": {
      "text/html": [
       "<div>\n",
       "<style scoped>\n",
       "    .dataframe tbody tr th:only-of-type {\n",
       "        vertical-align: middle;\n",
       "    }\n",
       "\n",
       "    .dataframe tbody tr th {\n",
       "        vertical-align: top;\n",
       "    }\n",
       "\n",
       "    .dataframe thead th {\n",
       "        text-align: right;\n",
       "    }\n",
       "</style>\n",
       "<table border=\"1\" class=\"dataframe\">\n",
       "  <thead>\n",
       "    <tr style=\"text-align: right;\">\n",
       "      <th></th>\n",
       "      <th>processed_title_tokens</th>\n",
       "      <th>processed_body_tokens</th>\n",
       "      <th>processed_tags</th>\n",
       "      <th>combined_text</th>\n",
       "      <th>use_embeddings</th>\n",
       "    </tr>\n",
       "  </thead>\n",
       "  <tbody>\n",
       "    <tr>\n",
       "      <th>0</th>\n",
       "      <td>[convert, decimal, double, c]</td>\n",
       "      <td>[want, assign, decimal, variable, trans, doubl...</td>\n",
       "      <td>c#,floating-point,type-conversion,double,decimal</td>\n",
       "      <td>convert decimal double c want assign decimal v...</td>\n",
       "      <td>[-0.0449068211, -0.0657903776, -0.0003035644, ...</td>\n",
       "    </tr>\n",
       "    <tr>\n",
       "      <th>1</th>\n",
       "      <td>[calculate, relative, time, c]</td>\n",
       "      <td>[given, specific, datetime, value, display, re...</td>\n",
       "      <td>c#,datetime,time,datediff,relative-time-span</td>\n",
       "      <td>calculate relative time c given specific datet...</td>\n",
       "      <td>[-0.0344359428, -0.07839460670000001, -0.02548...</td>\n",
       "    </tr>\n",
       "    <tr>\n",
       "      <th>2</th>\n",
       "      <td>[determine, user, timezone]</td>\n",
       "      <td>[standard, way, web, server, able, determine, ...</td>\n",
       "      <td>html,browser,timezone,user-agent,timezone-offset</td>\n",
       "      <td>determine user timezone standard way web serve...</td>\n",
       "      <td>[0.014654723000000001, 0.0442878939, -0.052892...</td>\n",
       "    </tr>\n",
       "    <tr>\n",
       "      <th>3</th>\n",
       "      <td>[fastest, way, get, value, π]</td>\n",
       "      <td>[looking, fastest, way, obtain, value, π, pers...</td>\n",
       "      <td>performance,algorithm,language-agnostic,unix,pi</td>\n",
       "      <td>fastest way get value π looking fastest way ob...</td>\n",
       "      <td>[-0.048530597200000004, -0.0524718091, -0.0530...</td>\n",
       "    </tr>\n",
       "    <tr>\n",
       "      <th>4</th>\n",
       "      <td>[use, c, socket, api, c, z, o]</td>\n",
       "      <td>[issue, getting, c, socket, api, work, properl...</td>\n",
       "      <td>c++,c,sockets,mainframe,zos</td>\n",
       "      <td>use c socket api c z o issue getting c socket ...</td>\n",
       "      <td>[-0.0037920545, 0.05711698900000001, -0.058412...</td>\n",
       "    </tr>\n",
       "  </tbody>\n",
       "</table>\n",
       "</div>"
      ],
      "text/plain": [
       "           processed_title_tokens  \\\n",
       "0   [convert, decimal, double, c]   \n",
       "1  [calculate, relative, time, c]   \n",
       "2     [determine, user, timezone]   \n",
       "3   [fastest, way, get, value, π]   \n",
       "4  [use, c, socket, api, c, z, o]   \n",
       "\n",
       "                               processed_body_tokens  \\\n",
       "0  [want, assign, decimal, variable, trans, doubl...   \n",
       "1  [given, specific, datetime, value, display, re...   \n",
       "2  [standard, way, web, server, able, determine, ...   \n",
       "3  [looking, fastest, way, obtain, value, π, pers...   \n",
       "4  [issue, getting, c, socket, api, work, properl...   \n",
       "\n",
       "                                     processed_tags  \\\n",
       "0  c#,floating-point,type-conversion,double,decimal   \n",
       "1      c#,datetime,time,datediff,relative-time-span   \n",
       "2  html,browser,timezone,user-agent,timezone-offset   \n",
       "3   performance,algorithm,language-agnostic,unix,pi   \n",
       "4                       c++,c,sockets,mainframe,zos   \n",
       "\n",
       "                                       combined_text  \\\n",
       "0  convert decimal double c want assign decimal v...   \n",
       "1  calculate relative time c given specific datet...   \n",
       "2  determine user timezone standard way web serve...   \n",
       "3  fastest way get value π looking fastest way ob...   \n",
       "4  use c socket api c z o issue getting c socket ...   \n",
       "\n",
       "                                      use_embeddings  \n",
       "0  [-0.0449068211, -0.0657903776, -0.0003035644, ...  \n",
       "1  [-0.0344359428, -0.07839460670000001, -0.02548...  \n",
       "2  [0.014654723000000001, 0.0442878939, -0.052892...  \n",
       "3  [-0.048530597200000004, -0.0524718091, -0.0530...  \n",
       "4  [-0.0037920545, 0.05711698900000001, -0.058412...  "
      ]
     },
     "metadata": {},
     "output_type": "display_data"
    }
   ],
   "source": [
    "data.head()"
   ]
  },
  {
   "cell_type": "markdown",
   "metadata": {},
   "source": [
    "#### Définition des fonctions ####"
   ]
  },
  {
   "cell_type": "code",
   "execution_count": null,
   "metadata": {},
   "outputs": [],
   "source": [
    "def generate_dictionary_and_bow(corpus):\n",
    "\n",
    "    words = [doc.split() for doc in corpus]\n",
    "    dictionary = corpora.Dictionary(words)\n",
    "    corpus_gensim = [dictionary.doc2bow(doc) for doc in words]\n",
    "    \n",
    "    return dictionary, corpus_gensim\n",
    "\n",
    "def train_lda_model(corpus, dictionary, num_topics, alpha, beta, passes, iterations):\n",
    "    lda_model = LdaModel(corpus=corpus, id2word=dictionary, num_topics=num_topics, alpha=alpha, eta=beta,\n",
    "                         passes=passes, iterations=iterations, random_state=42)\n",
    "    return lda_model\n",
    "\n",
    "def test_lda_hyperparams(param_grid, n_iter):\n",
    "\n",
    "    from sklearn.model_selection import ParameterSampler\n",
    "\n",
    "\n",
    "    param_sampler = ParameterSampler(param_grid, n_iter=n_iter, random_state=42)\n",
    "\n",
    "    best_coherence = -np.inf\n",
    "    best_params = None\n",
    "    best_model = None\n",
    "\n",
    "    for params in param_sampler:\n",
    "        lda_model = train_lda_model(corpus_gensim, dictionary, num_topics=params['num_topics'],\n",
    "                                    alpha=params['alpha'], beta=params['beta'],\n",
    "                                    passes=params['passes'], iterations=params['iterations'])\n",
    "\n",
    "        # Calculer la cohérence des topics\n",
    "        coherence_model_lda = CoherenceModel(model=lda_model, texts=texts, dictionary=dictionary, coherence='c_v')\n",
    "        coherence = coherence_model_lda.get_coherence()\n",
    "\n",
    "        # Mise à jour des meilleurs paramètres\n",
    "        if coherence > best_coherence:\n",
    "            best_coherence = coherence\n",
    "            best_params = params\n",
    "            best_model = lda_model\n",
    "    \n",
    "    return best_params, best_model, best_coherence\n",
    "\n",
    "    # Afficher les meilleurs hyperparamètres et la meilleure cohérence\n",
    "    print(f\"Meilleure cohérence: {best_coherence}\")\n",
    "    print(f\"Meilleure combinaison d'hyperparamètres: {best_params}\")\n",
    "\n",
    "def multi_label_binarizer(corpus, sep=' '):\n",
    "    corpus_list = corpus.apply(lambda x: x.split(sep))\n",
    "    mlb = MultiLabelBinarizer()\n",
    "    y = mlb.fit_transform(corpus_list)\n",
    "    tags_binarized_df = pd.DataFrame(y, columns=mlb.classes_)\n",
    "    return tags_binarized_df\n",
    "\n",
    "def display_token_info(corpus):\n",
    "    print(f'Le corpus contient {len(corpus)} tokens')\n",
    "    unique_tokens = set(corpus.split())\n",
    "    print(f\"Le corpus contient {len(unique_tokens)} tokens uniques\")\n",
    "    print(f\"Occurences moyennes par token: {len(corpus) / len(unique_tokens)}\")\n",
    "\n",
    "def inspect_non_null_matrix_values(matrix):\n",
    "    column_names = matrix.columns\n",
    "    column_name = random.choice(column_names)\n",
    "    print(\"Colonne choisie:\", column_name)\n",
    "    non_zero_column = matrix[matrix[column_name] > 0]\n",
    "    print(non_zero_column[[column_name]].head())\n",
    "\n",
    "def get_document_vector(doc, model):\n",
    "    vectors = [model.wv[token] for token in doc if token in model.wv]\n",
    "    return np.mean(vectors, axis=0) if vectors else np.zeros(model.vector_size)\n"
   ]
  },
  {
   "cell_type": "markdown",
   "metadata": {},
   "source": [
    "### Préparation des données ###"
   ]
  },
  {
   "cell_type": "markdown",
   "metadata": {},
   "source": [
    "Le réseau de neurones étant un modèle gourmand, je vais l'entraîner sur un échantillon du dataset, dont j'adapterai la taille en fonction des performances."
   ]
  },
  {
   "cell_type": "code",
   "execution_count": 17,
   "metadata": {},
   "outputs": [],
   "source": [
    "data = data.sample(50000)"
   ]
  },
  {
   "cell_type": "markdown",
   "metadata": {},
   "source": [
    "Pour ce modèle, je vais utiliser:\n",
    "- Pour **X**, une matrice de features sous forme d'embeddings\n",
    "- Pour **y**, une matrice de labels binarisée qui indique la présence ou non d'un tag dans le document"
   ]
  },
  {
   "cell_type": "code",
   "execution_count": 18,
   "metadata": {},
   "outputs": [],
   "source": [
    "# Embeddings de USE\n",
    "X = np.vstack(data['use_embeddings'].values)"
   ]
  },
  {
   "cell_type": "code",
   "execution_count": 19,
   "metadata": {},
   "outputs": [
    {
     "data": {
      "text/plain": [
       "array([[-0.05925827, -0.00815879, -0.01140629, ...,  0.06363516,\n",
       "        -0.0503395 , -0.05821633],\n",
       "       [ 0.05438701, -0.05166201,  0.06055912, ...,  0.06311379,\n",
       "        -0.03812636, -0.01134035],\n",
       "       [-0.02250627, -0.03708333, -0.02851975, ...,  0.05835588,\n",
       "        -0.02248105, -0.05677763],\n",
       "       ...,\n",
       "       [ 0.04403068, -0.05935622,  0.03934072, ...,  0.06161219,\n",
       "        -0.03890656,  0.05266009],\n",
       "       [-0.0348973 ,  0.01732324, -0.0458566 , ...,  0.06214431,\n",
       "        -0.05859448, -0.0357019 ],\n",
       "       [-0.04001129, -0.02488029,  0.01704159, ...,  0.05725216,\n",
       "        -0.00332964, -0.04315857]])"
      ]
     },
     "execution_count": 19,
     "metadata": {},
     "output_type": "execute_result"
    }
   ],
   "source": [
    "X"
   ]
  },
  {
   "cell_type": "code",
   "execution_count": 20,
   "metadata": {},
   "outputs": [],
   "source": [
    "# Liste de labels binarisés\n",
    "y = multi_label_binarizer(data.processed_tags, sep=',')"
   ]
  },
  {
   "cell_type": "markdown",
   "metadata": {},
   "source": [
    "Je veux également filtrer les données sur les tags les plus fréquents (top 100), pour éviter les outliers et l'overfitting."
   ]
  },
  {
   "cell_type": "code",
   "execution_count": 21,
   "metadata": {},
   "outputs": [],
   "source": [
    "tag_frequencies = y.sum(axis=0)\n",
    "top_100_tags = tag_frequencies.sort_values(ascending=False).head(100).index"
   ]
  },
  {
   "cell_type": "code",
   "execution_count": 22,
   "metadata": {},
   "outputs": [
    {
     "data": {
      "text/plain": [
       "Index(['c#', 'java', 'c++', 'javascript', 'php', 'asp.net', 'iphone', 'jquery',\n",
       "       'python', 'sql', 'html', 'c', 'sql-server', 'objective-c', 'mysql',\n",
       "       'database', 'windows', 'wpf', 'linux', 'ajax', 'performance', 'xml',\n",
       "       'css', 'ruby-on-rails', 'ruby', 'asp.net-mvc', 'flash', 'cocoa-touch',\n",
       "       'multithreading', 'visual-studio', 'cocoa', 'image', 'django', 'macos',\n",
       "       'apache-flex', 'web-services', 'string', 'security', 'arrays',\n",
       "       'actionscript-3', 'visual-studio-2008', 'user-interface', 'vb.net',\n",
       "       'algorithm', 't-sql', 'hibernate', 'sql-server-2005', 'forms',\n",
       "       'eclipse', 'oracle', 'debugging', 'winforms', 'internet-explorer',\n",
       "       'file', 'winapi', 'unit-testing', 'http', 'parsing', 'json', 'xcode',\n",
       "       'events', 'spring', 'class', 'xaml', 'apache', 'linq', 'android',\n",
       "       'delphi', 'unix', 'authentication', 'data-binding', 'firefox',\n",
       "       'silverlight', 'optimization', 'ios', 'jakarta-ee', 'wcf', 'regex',\n",
       "       'oop', 'gcc', 'memory', 'orm', 'perl', 'iis', 'shell', 'validation',\n",
       "       'swing', 'visual-c++', 'memory-management', 'scripting', 'sockets',\n",
       "       'bash', 'caching', 'svn', 'jpa', 'web-applications', 'exception',\n",
       "       'linq-to-sql', 'math', 'testing'],\n",
       "      dtype='object')"
      ]
     },
     "execution_count": 22,
     "metadata": {},
     "output_type": "execute_result"
    }
   ],
   "source": [
    "top_100_tags"
   ]
  },
  {
   "cell_type": "code",
   "execution_count": 23,
   "metadata": {},
   "outputs": [],
   "source": [
    "y = y[top_100_tags]"
   ]
  },
  {
   "cell_type": "markdown",
   "metadata": {},
   "source": [
    "J'ai mes deux matrices, je peux maintenant séparer le jeu de données en subsets d'entraînement et de test."
   ]
  },
  {
   "cell_type": "code",
   "execution_count": 24,
   "metadata": {},
   "outputs": [],
   "source": [
    "X_train, X_test, y_train, y_test = train_test_split(X, y, test_size=0.2, random_state=42)"
   ]
  },
  {
   "cell_type": "markdown",
   "metadata": {},
   "source": [
    "### Modélisation d'un réseau de neurones ###"
   ]
  },
  {
   "cell_type": "code",
   "execution_count": 25,
   "metadata": {},
   "outputs": [
    {
     "name": "stderr",
     "output_type": "stream",
     "text": [
      "/Users/gaspardhurez/csprojects/repos/openclassrooms/.venv/lib/python3.11/site-packages/keras/src/layers/core/dense.py:87: UserWarning: Do not pass an `input_shape`/`input_dim` argument to a layer. When using Sequential models, prefer using an `Input(shape)` object as the first layer in the model instead.\n",
      "  super().__init__(activity_regularizer=activity_regularizer, **kwargs)\n"
     ]
    }
   ],
   "source": [
    "# Définition du réseau de neurones\n",
    "model = Sequential()\n",
    "model.add(Dense(256, input_shape=(X_train.shape[1],), activation='relu'))\n",
    "model.add(Dropout(0.5))\n",
    "model.add(Dense(128, activation='relu'))\n",
    "model.add(Dropout(0.5))\n",
    "model.add(Dense(64, activation='relu'))\n",
    "model.add(Dense(y_train.shape[1], activation='sigmoid'))"
   ]
  },
  {
   "cell_type": "code",
   "execution_count": 26,
   "metadata": {},
   "outputs": [
    {
     "data": {
      "text/html": [
       "<pre style=\"white-space:pre;overflow-x:auto;line-height:normal;font-family:Menlo,'DejaVu Sans Mono',consolas,'Courier New',monospace\"><span style=\"font-weight: bold\">Model: \"sequential\"</span>\n",
       "</pre>\n"
      ],
      "text/plain": [
       "\u001b[1mModel: \"sequential\"\u001b[0m\n"
      ]
     },
     "metadata": {},
     "output_type": "display_data"
    },
    {
     "data": {
      "text/html": [
       "<pre style=\"white-space:pre;overflow-x:auto;line-height:normal;font-family:Menlo,'DejaVu Sans Mono',consolas,'Courier New',monospace\">┏━━━━━━━━━━━━━━━━━━━━━━━━━━━━━━━━━┳━━━━━━━━━━━━━━━━━━━━━━━━┳━━━━━━━━━━━━━━━┓\n",
       "┃<span style=\"font-weight: bold\"> Layer (type)                    </span>┃<span style=\"font-weight: bold\"> Output Shape           </span>┃<span style=\"font-weight: bold\">       Param # </span>┃\n",
       "┡━━━━━━━━━━━━━━━━━━━━━━━━━━━━━━━━━╇━━━━━━━━━━━━━━━━━━━━━━━━╇━━━━━━━━━━━━━━━┩\n",
       "│ dense (<span style=\"color: #0087ff; text-decoration-color: #0087ff\">Dense</span>)                   │ (<span style=\"color: #00d7ff; text-decoration-color: #00d7ff\">None</span>, <span style=\"color: #00af00; text-decoration-color: #00af00\">256</span>)            │       <span style=\"color: #00af00; text-decoration-color: #00af00\">131,328</span> │\n",
       "├─────────────────────────────────┼────────────────────────┼───────────────┤\n",
       "│ dropout (<span style=\"color: #0087ff; text-decoration-color: #0087ff\">Dropout</span>)               │ (<span style=\"color: #00d7ff; text-decoration-color: #00d7ff\">None</span>, <span style=\"color: #00af00; text-decoration-color: #00af00\">256</span>)            │             <span style=\"color: #00af00; text-decoration-color: #00af00\">0</span> │\n",
       "├─────────────────────────────────┼────────────────────────┼───────────────┤\n",
       "│ dense_1 (<span style=\"color: #0087ff; text-decoration-color: #0087ff\">Dense</span>)                 │ (<span style=\"color: #00d7ff; text-decoration-color: #00d7ff\">None</span>, <span style=\"color: #00af00; text-decoration-color: #00af00\">128</span>)            │        <span style=\"color: #00af00; text-decoration-color: #00af00\">32,896</span> │\n",
       "├─────────────────────────────────┼────────────────────────┼───────────────┤\n",
       "│ dropout_1 (<span style=\"color: #0087ff; text-decoration-color: #0087ff\">Dropout</span>)             │ (<span style=\"color: #00d7ff; text-decoration-color: #00d7ff\">None</span>, <span style=\"color: #00af00; text-decoration-color: #00af00\">128</span>)            │             <span style=\"color: #00af00; text-decoration-color: #00af00\">0</span> │\n",
       "├─────────────────────────────────┼────────────────────────┼───────────────┤\n",
       "│ dense_2 (<span style=\"color: #0087ff; text-decoration-color: #0087ff\">Dense</span>)                 │ (<span style=\"color: #00d7ff; text-decoration-color: #00d7ff\">None</span>, <span style=\"color: #00af00; text-decoration-color: #00af00\">64</span>)             │         <span style=\"color: #00af00; text-decoration-color: #00af00\">8,256</span> │\n",
       "├─────────────────────────────────┼────────────────────────┼───────────────┤\n",
       "│ dense_3 (<span style=\"color: #0087ff; text-decoration-color: #0087ff\">Dense</span>)                 │ (<span style=\"color: #00d7ff; text-decoration-color: #00d7ff\">None</span>, <span style=\"color: #00af00; text-decoration-color: #00af00\">100</span>)            │         <span style=\"color: #00af00; text-decoration-color: #00af00\">6,500</span> │\n",
       "└─────────────────────────────────┴────────────────────────┴───────────────┘\n",
       "</pre>\n"
      ],
      "text/plain": [
       "┏━━━━━━━━━━━━━━━━━━━━━━━━━━━━━━━━━┳━━━━━━━━━━━━━━━━━━━━━━━━┳━━━━━━━━━━━━━━━┓\n",
       "┃\u001b[1m \u001b[0m\u001b[1mLayer (type)                   \u001b[0m\u001b[1m \u001b[0m┃\u001b[1m \u001b[0m\u001b[1mOutput Shape          \u001b[0m\u001b[1m \u001b[0m┃\u001b[1m \u001b[0m\u001b[1m      Param #\u001b[0m\u001b[1m \u001b[0m┃\n",
       "┡━━━━━━━━━━━━━━━━━━━━━━━━━━━━━━━━━╇━━━━━━━━━━━━━━━━━━━━━━━━╇━━━━━━━━━━━━━━━┩\n",
       "│ dense (\u001b[38;5;33mDense\u001b[0m)                   │ (\u001b[38;5;45mNone\u001b[0m, \u001b[38;5;34m256\u001b[0m)            │       \u001b[38;5;34m131,328\u001b[0m │\n",
       "├─────────────────────────────────┼────────────────────────┼───────────────┤\n",
       "│ dropout (\u001b[38;5;33mDropout\u001b[0m)               │ (\u001b[38;5;45mNone\u001b[0m, \u001b[38;5;34m256\u001b[0m)            │             \u001b[38;5;34m0\u001b[0m │\n",
       "├─────────────────────────────────┼────────────────────────┼───────────────┤\n",
       "│ dense_1 (\u001b[38;5;33mDense\u001b[0m)                 │ (\u001b[38;5;45mNone\u001b[0m, \u001b[38;5;34m128\u001b[0m)            │        \u001b[38;5;34m32,896\u001b[0m │\n",
       "├─────────────────────────────────┼────────────────────────┼───────────────┤\n",
       "│ dropout_1 (\u001b[38;5;33mDropout\u001b[0m)             │ (\u001b[38;5;45mNone\u001b[0m, \u001b[38;5;34m128\u001b[0m)            │             \u001b[38;5;34m0\u001b[0m │\n",
       "├─────────────────────────────────┼────────────────────────┼───────────────┤\n",
       "│ dense_2 (\u001b[38;5;33mDense\u001b[0m)                 │ (\u001b[38;5;45mNone\u001b[0m, \u001b[38;5;34m64\u001b[0m)             │         \u001b[38;5;34m8,256\u001b[0m │\n",
       "├─────────────────────────────────┼────────────────────────┼───────────────┤\n",
       "│ dense_3 (\u001b[38;5;33mDense\u001b[0m)                 │ (\u001b[38;5;45mNone\u001b[0m, \u001b[38;5;34m100\u001b[0m)            │         \u001b[38;5;34m6,500\u001b[0m │\n",
       "└─────────────────────────────────┴────────────────────────┴───────────────┘\n"
      ]
     },
     "metadata": {},
     "output_type": "display_data"
    },
    {
     "data": {
      "text/html": [
       "<pre style=\"white-space:pre;overflow-x:auto;line-height:normal;font-family:Menlo,'DejaVu Sans Mono',consolas,'Courier New',monospace\"><span style=\"font-weight: bold\"> Total params: </span><span style=\"color: #00af00; text-decoration-color: #00af00\">178,980</span> (699.14 KB)\n",
       "</pre>\n"
      ],
      "text/plain": [
       "\u001b[1m Total params: \u001b[0m\u001b[38;5;34m178,980\u001b[0m (699.14 KB)\n"
      ]
     },
     "metadata": {},
     "output_type": "display_data"
    },
    {
     "data": {
      "text/html": [
       "<pre style=\"white-space:pre;overflow-x:auto;line-height:normal;font-family:Menlo,'DejaVu Sans Mono',consolas,'Courier New',monospace\"><span style=\"font-weight: bold\"> Trainable params: </span><span style=\"color: #00af00; text-decoration-color: #00af00\">178,980</span> (699.14 KB)\n",
       "</pre>\n"
      ],
      "text/plain": [
       "\u001b[1m Trainable params: \u001b[0m\u001b[38;5;34m178,980\u001b[0m (699.14 KB)\n"
      ]
     },
     "metadata": {},
     "output_type": "display_data"
    },
    {
     "data": {
      "text/html": [
       "<pre style=\"white-space:pre;overflow-x:auto;line-height:normal;font-family:Menlo,'DejaVu Sans Mono',consolas,'Courier New',monospace\"><span style=\"font-weight: bold\"> Non-trainable params: </span><span style=\"color: #00af00; text-decoration-color: #00af00\">0</span> (0.00 B)\n",
       "</pre>\n"
      ],
      "text/plain": [
       "\u001b[1m Non-trainable params: \u001b[0m\u001b[38;5;34m0\u001b[0m (0.00 B)\n"
      ]
     },
     "metadata": {},
     "output_type": "display_data"
    }
   ],
   "source": [
    "# Compilation du modèle\n",
    "model.compile(loss='binary_crossentropy', optimizer='adam', metrics=['accuracy'])\n",
    "model.summary()"
   ]
  },
  {
   "cell_type": "code",
   "execution_count": 27,
   "metadata": {},
   "outputs": [
    {
     "name": "stdout",
     "output_type": "stream",
     "text": [
      "Epoch 1/20\n",
      "\u001b[1m1000/1000\u001b[0m \u001b[32m━━━━━━━━━━━━━━━━━━━━\u001b[0m\u001b[37m\u001b[0m \u001b[1m3s\u001b[0m 2ms/step - accuracy: 0.2083 - loss: 0.1516 - val_accuracy: 0.5092 - val_loss: 0.0585\n",
      "Epoch 2/20\n",
      "\u001b[1m1000/1000\u001b[0m \u001b[32m━━━━━━━━━━━━━━━━━━━━\u001b[0m\u001b[37m\u001b[0m \u001b[1m2s\u001b[0m 2ms/step - accuracy: 0.4528 - loss: 0.0627 - val_accuracy: 0.4969 - val_loss: 0.0530\n",
      "Epoch 3/20\n",
      "\u001b[1m1000/1000\u001b[0m \u001b[32m━━━━━━━━━━━━━━━━━━━━\u001b[0m\u001b[37m\u001b[0m \u001b[1m2s\u001b[0m 2ms/step - accuracy: 0.4615 - loss: 0.0575 - val_accuracy: 0.4979 - val_loss: 0.0507\n",
      "Epoch 4/20\n",
      "\u001b[1m1000/1000\u001b[0m \u001b[32m━━━━━━━━━━━━━━━━━━━━\u001b[0m\u001b[37m\u001b[0m \u001b[1m3s\u001b[0m 3ms/step - accuracy: 0.4653 - loss: 0.0553 - val_accuracy: 0.4992 - val_loss: 0.0490\n",
      "Epoch 5/20\n",
      "\u001b[1m1000/1000\u001b[0m \u001b[32m━━━━━━━━━━━━━━━━━━━━\u001b[0m\u001b[37m\u001b[0m \u001b[1m2s\u001b[0m 2ms/step - accuracy: 0.4620 - loss: 0.0542 - val_accuracy: 0.4931 - val_loss: 0.0480\n",
      "Epoch 6/20\n",
      "\u001b[1m1000/1000\u001b[0m \u001b[32m━━━━━━━━━━━━━━━━━━━━\u001b[0m\u001b[37m\u001b[0m \u001b[1m2s\u001b[0m 2ms/step - accuracy: 0.4677 - loss: 0.0525 - val_accuracy: 0.5098 - val_loss: 0.0473\n",
      "Epoch 7/20\n",
      "\u001b[1m1000/1000\u001b[0m \u001b[32m━━━━━━━━━━━━━━━━━━━━\u001b[0m\u001b[37m\u001b[0m \u001b[1m2s\u001b[0m 2ms/step - accuracy: 0.4719 - loss: 0.0518 - val_accuracy: 0.4936 - val_loss: 0.0465\n",
      "Epoch 8/20\n",
      "\u001b[1m1000/1000\u001b[0m \u001b[32m━━━━━━━━━━━━━━━━━━━━\u001b[0m\u001b[37m\u001b[0m \u001b[1m2s\u001b[0m 2ms/step - accuracy: 0.4744 - loss: 0.0509 - val_accuracy: 0.4950 - val_loss: 0.0464\n",
      "Epoch 9/20\n",
      "\u001b[1m1000/1000\u001b[0m \u001b[32m━━━━━━━━━━━━━━━━━━━━\u001b[0m\u001b[37m\u001b[0m \u001b[1m2s\u001b[0m 2ms/step - accuracy: 0.4702 - loss: 0.0506 - val_accuracy: 0.4942 - val_loss: 0.0461\n",
      "Epoch 10/20\n",
      "\u001b[1m1000/1000\u001b[0m \u001b[32m━━━━━━━━━━━━━━━━━━━━\u001b[0m\u001b[37m\u001b[0m \u001b[1m2s\u001b[0m 2ms/step - accuracy: 0.4700 - loss: 0.0502 - val_accuracy: 0.4997 - val_loss: 0.0459\n",
      "Epoch 11/20\n",
      "\u001b[1m1000/1000\u001b[0m \u001b[32m━━━━━━━━━━━━━━━━━━━━\u001b[0m\u001b[37m\u001b[0m \u001b[1m7s\u001b[0m 7ms/step - accuracy: 0.4781 - loss: 0.0498 - val_accuracy: 0.4939 - val_loss: 0.0454\n",
      "Epoch 12/20\n",
      "\u001b[1m1000/1000\u001b[0m \u001b[32m━━━━━━━━━━━━━━━━━━━━\u001b[0m\u001b[37m\u001b[0m \u001b[1m2s\u001b[0m 2ms/step - accuracy: 0.4731 - loss: 0.0490 - val_accuracy: 0.4855 - val_loss: 0.0455\n",
      "Epoch 13/20\n",
      "\u001b[1m1000/1000\u001b[0m \u001b[32m━━━━━━━━━━━━━━━━━━━━\u001b[0m\u001b[37m\u001b[0m \u001b[1m3s\u001b[0m 3ms/step - accuracy: 0.4761 - loss: 0.0491 - val_accuracy: 0.4994 - val_loss: 0.0454\n",
      "Epoch 14/20\n",
      "\u001b[1m1000/1000\u001b[0m \u001b[32m━━━━━━━━━━━━━━━━━━━━\u001b[0m\u001b[37m\u001b[0m \u001b[1m2s\u001b[0m 2ms/step - accuracy: 0.4853 - loss: 0.0485 - val_accuracy: 0.5065 - val_loss: 0.0451\n",
      "Epoch 15/20\n",
      "\u001b[1m1000/1000\u001b[0m \u001b[32m━━━━━━━━━━━━━━━━━━━━\u001b[0m\u001b[37m\u001b[0m \u001b[1m3s\u001b[0m 3ms/step - accuracy: 0.4823 - loss: 0.0482 - val_accuracy: 0.4967 - val_loss: 0.0451\n",
      "Epoch 16/20\n",
      "\u001b[1m1000/1000\u001b[0m \u001b[32m━━━━━━━━━━━━━━━━━━━━\u001b[0m\u001b[37m\u001b[0m \u001b[1m2s\u001b[0m 2ms/step - accuracy: 0.4795 - loss: 0.0481 - val_accuracy: 0.5041 - val_loss: 0.0448\n",
      "Epoch 17/20\n",
      "\u001b[1m1000/1000\u001b[0m \u001b[32m━━━━━━━━━━━━━━━━━━━━\u001b[0m\u001b[37m\u001b[0m \u001b[1m2s\u001b[0m 2ms/step - accuracy: 0.4853 - loss: 0.0480 - val_accuracy: 0.5024 - val_loss: 0.0448\n",
      "Epoch 18/20\n",
      "\u001b[1m1000/1000\u001b[0m \u001b[32m━━━━━━━━━━━━━━━━━━━━\u001b[0m\u001b[37m\u001b[0m \u001b[1m2s\u001b[0m 2ms/step - accuracy: 0.4784 - loss: 0.0474 - val_accuracy: 0.5045 - val_loss: 0.0449\n",
      "Epoch 19/20\n",
      "\u001b[1m1000/1000\u001b[0m \u001b[32m━━━━━━━━━━━━━━━━━━━━\u001b[0m\u001b[37m\u001b[0m \u001b[1m2s\u001b[0m 2ms/step - accuracy: 0.4889 - loss: 0.0477 - val_accuracy: 0.4895 - val_loss: 0.0446\n",
      "Epoch 20/20\n",
      "\u001b[1m1000/1000\u001b[0m \u001b[32m━━━━━━━━━━━━━━━━━━━━\u001b[0m\u001b[37m\u001b[0m \u001b[1m2s\u001b[0m 2ms/step - accuracy: 0.4892 - loss: 0.0474 - val_accuracy: 0.4997 - val_loss: 0.0443\n"
     ]
    }
   ],
   "source": [
    "history = model.fit(X_train, y_train, epochs=20, batch_size=32, validation_split=0.2)"
   ]
  },
  {
   "cell_type": "markdown",
   "metadata": {},
   "source": [
    "### Validation et évaluation sur le jeu de test ###"
   ]
  },
  {
   "cell_type": "code",
   "execution_count": 28,
   "metadata": {},
   "outputs": [
    {
     "name": "stdout",
     "output_type": "stream",
     "text": [
      "\u001b[1m313/313\u001b[0m \u001b[32m━━━━━━━━━━━━━━━━━━━━\u001b[0m\u001b[37m\u001b[0m \u001b[1m0s\u001b[0m 1ms/step - accuracy: 0.4923 - loss: 0.0445\n",
      "Perte: 0.044765688478946686, Précision: 0.4959000051021576\n"
     ]
    }
   ],
   "source": [
    "loss, accuracy = model.evaluate(X_test, y_test)\n",
    "print(f'Perte: {loss}, Précision: {accuracy}')"
   ]
  },
  {
   "cell_type": "code",
   "execution_count": 29,
   "metadata": {},
   "outputs": [
    {
     "name": "stdout",
     "output_type": "stream",
     "text": [
      "\u001b[1m313/313\u001b[0m \u001b[32m━━━━━━━━━━━━━━━━━━━━\u001b[0m\u001b[37m\u001b[0m \u001b[1m0s\u001b[0m 518us/step\n",
      "Précision: 0.7135528710905179\n",
      "Rappel: 0.423700501129999\n",
      "F1: 0.5316892725030826\n"
     ]
    }
   ],
   "source": [
    "from sklearn.metrics import precision_score, recall_score, f1_score\n",
    "\n",
    "# Prédire les résultats pour l'ensemble de test\n",
    "y_pred = model.predict(X_test)\n",
    "\n",
    "# Binariser les prédictions (car 'sigmoid' donne des probabilités)\n",
    "y_pred_binary = (y_pred > 0.5).astype(int)\n",
    "\n",
    "# Calculer la précision, le rappel, et le F1-score (sur toutes les classes, en micro-average)\n",
    "precision = precision_score(y_test, y_pred_binary, average='micro')\n",
    "recall = recall_score(y_test, y_pred_binary, average='micro')\n",
    "f1 = f1_score(y_test, y_pred_binary, average='micro')\n",
    "\n",
    "print(f'Précision: {precision}')\n",
    "print(f'Rappel: {recall}')\n",
    "print(f'F1: {f1}')"
   ]
  },
  {
   "cell_type": "markdown",
   "metadata": {},
   "source": [
    "Je log les informations du modèle dans MLFlow."
   ]
  },
  {
   "cell_type": "code",
   "execution_count": 35,
   "metadata": {},
   "outputs": [],
   "source": [
    "import json\n",
    "tags_list = list(y.columns)\n",
    "\n",
    "with open(\"data/tags.json\", \"w\") as f:\n",
    "    json.dump(tags_list, f)"
   ]
  },
  {
   "cell_type": "code",
   "execution_count": 36,
   "metadata": {},
   "outputs": [
    {
     "name": "stderr",
     "output_type": "stream",
     "text": [
      "2024/09/13 16:41:05 WARNING mlflow.keras.save: You are saving a Keras model without specifying model signature.\n",
      "2024/09/13 16:41:10 WARNING mlflow.models.model: Model logged without a signature and input example. Please set `input_example` parameter when logging the model to auto infer the model signature.\n",
      "2024/09/13 16:41:10 INFO mlflow.tracking._tracking_service.client: 🏃 View run unruly-hen-610 at: http://localhost:5000/#/experiments/635357062346878224/runs/1197fc00a368469087e5c1913d810a4d.\n",
      "2024/09/13 16:41:10 INFO mlflow.tracking._tracking_service.client: 🧪 View experiment at: http://localhost:5000/#/experiments/635357062346878224.\n"
     ]
    }
   ],
   "source": [
    "with mlflow.start_run():\n",
    "    # Enregistrement des paramètres\n",
    "    mlflow.log_param(\"epochs\", 20)\n",
    "    mlflow.log_param(\"batch_size\", 32)\n",
    "    mlflow.log_param(\"layer_1_units\", 256)\n",
    "    mlflow.log_param(\"layer_2_units\", 128)\n",
    "    mlflow.log_param(\"layer_3_units\", 64)\n",
    "    mlflow.log_metric(\"precision\", precision)\n",
    "    mlflow.log_metric(\"recall\", recall)\n",
    "    mlflow.log_metric(\"f1_score\", f1)\n",
    "\n",
    "    mlflow.log_artifact(\"data/tags.json\")\n",
    "\n",
    "    # Enregistrement du modèle\n",
    "    mlflow.keras.log_model(model, \"model\")\n",
    "\n",
    "\n"
   ]
  },
  {
   "cell_type": "code",
   "execution_count": 43,
   "metadata": {},
   "outputs": [
    {
     "data": {
      "text/html": [
       "<div>\n",
       "<style scoped>\n",
       "    .dataframe tbody tr th:only-of-type {\n",
       "        vertical-align: middle;\n",
       "    }\n",
       "\n",
       "    .dataframe tbody tr th {\n",
       "        vertical-align: top;\n",
       "    }\n",
       "\n",
       "    .dataframe thead th {\n",
       "        text-align: right;\n",
       "    }\n",
       "</style>\n",
       "<table border=\"1\" class=\"dataframe\">\n",
       "  <thead>\n",
       "    <tr style=\"text-align: right;\">\n",
       "      <th></th>\n",
       "      <th>processed_title_tokens</th>\n",
       "      <th>processed_body_tokens</th>\n",
       "      <th>processed_tags</th>\n",
       "      <th>combined_text</th>\n",
       "      <th>use_embeddings</th>\n",
       "    </tr>\n",
       "  </thead>\n",
       "  <tbody>\n",
       "    <tr>\n",
       "      <th>46432</th>\n",
       "      <td>[adding, jpanel, jframe, netbeans]</td>\n",
       "      <td>[particularly, using, netbeans, gui, editor, n...</td>\n",
       "      <td>java,swing,netbeans,jframe,jpanel</td>\n",
       "      <td>adding jpanel jframe netbeans particularly usi...</td>\n",
       "      <td>[-0.0592582673, -0.0081587909, -0.011406286600...</td>\n",
       "    </tr>\n",
       "  </tbody>\n",
       "</table>\n",
       "</div>"
      ],
      "text/plain": [
       "                   processed_title_tokens  \\\n",
       "46432  [adding, jpanel, jframe, netbeans]   \n",
       "\n",
       "                                   processed_body_tokens  \\\n",
       "46432  [particularly, using, netbeans, gui, editor, n...   \n",
       "\n",
       "                          processed_tags  \\\n",
       "46432  java,swing,netbeans,jframe,jpanel   \n",
       "\n",
       "                                           combined_text  \\\n",
       "46432  adding jpanel jframe netbeans particularly usi...   \n",
       "\n",
       "                                          use_embeddings  \n",
       "46432  [-0.0592582673, -0.0081587909, -0.011406286600...  "
      ]
     },
     "execution_count": 43,
     "metadata": {},
     "output_type": "execute_result"
    }
   ],
   "source": [
    "data[0:1]"
   ]
  },
  {
   "cell_type": "code",
   "execution_count": 48,
   "metadata": {},
   "outputs": [
    {
     "name": "stdout",
     "output_type": "stream",
     "text": [
      "actionscript-3\n",
      "ajax\n",
      "algorithm\n",
      "android\n",
      "apache\n",
      "apache-flex\n",
      "arrays\n",
      "asp.net\n",
      "asp.net-mvc\n",
      "authentication\n",
      "bash\n",
      "c\n",
      "c#\n",
      "c++\n",
      "caching\n",
      "class\n",
      "cocoa\n",
      "cocoa-touch\n",
      "css\n",
      "data-binding\n",
      "database\n",
      "debugging\n",
      "delphi\n",
      "django\n",
      "eclipse\n",
      "events\n",
      "exception\n",
      "file\n",
      "firefox\n",
      "flash\n",
      "forms\n",
      "gcc\n",
      "hibernate\n",
      "html\n",
      "http\n",
      "iis\n",
      "image\n",
      "internet-explorer\n",
      "ios\n",
      "iphone\n",
      "jakarta-ee\n",
      "java\n",
      "javascript\n",
      "jpa\n",
      "jquery\n",
      "json\n",
      "linq\n",
      "linq-to-sql\n",
      "linux\n",
      "macos\n",
      "math\n",
      "memory\n",
      "memory-management\n",
      "multithreading\n",
      "mysql\n",
      "objective-c\n",
      "oop\n",
      "optimization\n",
      "oracle\n",
      "orm\n",
      "parsing\n",
      "performance\n",
      "perl\n",
      "php\n",
      "python\n",
      "regex\n",
      "ruby\n",
      "ruby-on-rails\n",
      "scripting\n",
      "security\n",
      "shell\n",
      "silverlight\n",
      "sockets\n",
      "spring\n",
      "sql\n",
      "sql-server\n",
      "sql-server-2005\n",
      "string\n",
      "svn\n",
      "swing\n",
      "t-sql\n",
      "testing\n",
      "unit-testing\n",
      "unix\n",
      "user-interface\n",
      "validation\n",
      "vb.net\n",
      "visual-c++\n",
      "visual-studio\n",
      "visual-studio-2008\n",
      "wcf\n",
      "web-applications\n",
      "web-services\n",
      "winapi\n",
      "windows\n",
      "winforms\n",
      "wpf\n",
      "xaml\n",
      "xcode\n",
      "xml\n"
     ]
    }
   ],
   "source": [
    "sorted_list = sorted(top_100_tags)\n",
    "for tag in sorted_list:\n",
    "    print(tag)"
   ]
  }
 ],
 "metadata": {
  "kernelspec": {
   "display_name": ".venv",
   "language": "python",
   "name": "python3"
  },
  "language_info": {
   "codemirror_mode": {
    "name": "ipython",
    "version": 3
   },
   "file_extension": ".py",
   "mimetype": "text/x-python",
   "name": "python",
   "nbconvert_exporter": "python",
   "pygments_lexer": "ipython3",
   "version": "3.11.5"
  }
 },
 "nbformat": 4,
 "nbformat_minor": 2
}
